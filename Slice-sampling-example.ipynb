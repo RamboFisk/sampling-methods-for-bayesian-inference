{
 "cells": [
  {
   "cell_type": "markdown",
   "metadata": {},
   "source": [
    "# Slice sampling\n",
    "\n",
    "Very simple sampling algorithm, basically we sample first a height and then the width ($x$ location). So to initialize we sample a $x_0 = randomNorm$ for instance from a normal distribution. Then we iterate for each sample:\n",
    "\n",
    "- Sample a height $u = Unif(0, f(x_{i-1}))$\n",
    "- Define $z$ as the inverse PDF from $u$\n",
    "- Sample $x_i = Unif(-z, z)$"
   ]
  },
  {
   "cell_type": "code",
   "execution_count": 15,
   "metadata": {},
   "outputs": [],
   "source": [
    "import math\n",
    "def normal_dist(x, sig=0.5, mu=1):\n",
    "    return (1/math.sqrt(2*math.pi*sig**2)) * math.exp(-(x - mu)**2/(2*sig**2))\n",
    "def mixed_normal(x):\n",
    "    return normal_dist(x, sig=0.8, mu=6) * 0.2 + normal_dist(x, sig=1.5, mu=10) * 0.8\n",
    "\n",
    "def normal_inv(y, sig=0.5, mu=1):\n",
    "    x = np.sqrt(-2*sig**2 * np.log(y * sig * np.sqrt(2*np.pi)))\n",
    "    return mu-x, mu+x\n",
    "\n",
    "def mixed_normal_inv(y):\n",
    "    y0, y1 = normal_inv(y, sig=0.8, mu=6)\n",
    "    z0, z1 = normal_inv(y, sig=1.5, mu=10)\n",
    "    return y0*0.2-z0*0.8, y1*0.2+z1*0.8"
   ]
  },
  {
   "cell_type": "code",
   "execution_count": 16,
   "metadata": {},
   "outputs": [],
   "source": [
    "#Sampling methods\n",
    "import numpy as np\n",
    "\n",
    "def slice_sampling(dist, dist_inv, length=100):\n",
    "    x = np.random.normal(9, 5, size=1)\n",
    "    samples = []\n",
    "\n",
    "    for i in range(length):\n",
    "        u = np.random.uniform(0,dist(x))\n",
    "        z0, z1 = dist_inv(u)\n",
    "        x = np.random.uniform(z0,z1,1)\n",
    "        samples.append(x)\n",
    "\n",
    "    return samples"
   ]
  },
  {
   "cell_type": "code",
   "execution_count": 17,
   "metadata": {},
   "outputs": [
    {
     "data": {
      "image/png": "[encoded data removed]",
      "text/plain": [
       "<Figure size 432x288 with 1 Axes>"
      ]
     },
     "metadata": {
      "needs_background": "light"
     },
     "output_type": "display_data"
    }
   ],
   "source": [
    "import matplotlib.pyplot as plt\n",
    "\n",
    "r = (-5, 20)\n",
    "plt.plot(np.linspace(r[0], r[1], 1000), [mixed_normal(s) for s in np.linspace(r[0], r[1], 1000)], label='target distribution')\n",
    "samples = slice_sampling(mixed_normal, mixed_normal_inv, length=150)\n",
    "plt.plot(samples, [mixed_normal(s) for s in samples], 'o', label='sampled values')\n",
    "plt.legend()\n",
    "plt.show()"
   ]
  },
  {
   "cell_type": "code",
   "execution_count": null,
   "metadata": {},
   "outputs": [],
   "source": []
  }
 ],
 "metadata": {
  "kernelspec": {
   "display_name": "Python 3",
   "language": "python",
   "name": "python3"
  },
  "language_info": {
   "codemirror_mode": {
    "name": "ipython",
    "version": 3
   },
   "file_extension": ".py",
   "mimetype": "text/x-python",
   "name": "python",
   "nbconvert_exporter": "python",
   "pygments_lexer": "ipython3",
   "version": "3.6.8"
  }
 },
 "nbformat": 4,
 "nbformat_minor": 2
}
